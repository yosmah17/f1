{
 "cells": [
  {
   "cell_type": "markdown",
   "id": "7a5b3703",
   "metadata": {},
   "source": [
    "# <h1 align = \"center\"><font color=Green>Python Fundamentals Exercise 01 </font></h1>"
   ]
  },
  {
   "cell_type": "markdown",
   "id": "595a57aa",
   "metadata": {},
   "source": [
    "<h3 align = \"center\"><font color=Green>Solve the following questions </font></h1>"
   ]
  },
  {
   "cell_type": "markdown",
   "id": "0b7c66d5",
   "metadata": {},
   "source": [
    "### question 1\n",
    "\n",
    ">\n",
    "> Create a summation calculator that takes two values from a user and print the summation of those two values.\n",
    "\n",
    "    Example\n",
    ">input\n",
    ">\n",
    "> x = 5\n",
    ">\n",
    "> y = 6\n",
    "\n",
    "\n",
    ">output\n",
    ">\n",
    ">z = 11\n"
   ]
  },
  {
   "cell_type": "code",
   "execution_count": null,
   "id": "898e6c7e",
   "metadata": {},
   "outputs": [],
   "source": [
    "x=float(input(\"enter x\"))\n",
    "y=float(input(\"enter y\"))\n",
    "z=x+y\n",
    "print(z)\n",
    "\n",
    "\n",
    "\n"
   ]
  },
  {
   "cell_type": "markdown",
   "id": "427ac6f1",
   "metadata": {},
   "source": [
    "***"
   ]
  },
  {
   "cell_type": "markdown",
   "id": "462ba485",
   "metadata": {},
   "source": [
    "### question 2\n",
    "\n",
    ">\n",
    "> Create a subtraction calculator that takes two values from a user and print the subtraction of those two values.\n",
    "\n",
    "    Example\n",
    ">input\n",
    ">\n",
    "> x = 5\n",
    ">\n",
    "> y = 6\n",
    "\n",
    "\n",
    ">output\n",
    ">\n",
    ">z = 1\n"
   ]
  },
  {
   "cell_type": "code",
   "execution_count": null,
   "id": "0374f2b8",
   "metadata": {},
   "outputs": [],
   "source": [
    "x=float(input(\"enter x\"))\n",
    "y=float(input(\"enter y\"))\n",
    "z=x-y\n",
    "print(z)"
   ]
  },
  {
   "cell_type": "markdown",
   "id": "72e2ba2d",
   "metadata": {},
   "source": [
    "***"
   ]
  },
  {
   "cell_type": "markdown",
   "id": "155f7305",
   "metadata": {},
   "source": [
    "### question 3\n",
    "\n",
    ">\n",
    "> Create a division calculator that takes two values from a user and print two values \n",
    "> - The division of those two values.\n",
    "> - The division of those two values as an integer.\n",
    "\n",
    "    Example 1\n",
    ">input\n",
    ">\n",
    "> x = 10\n",
    ">\n",
    "> y = 2\n",
    "\n",
    "\n",
    ">output\n",
    ">\n",
    ">z = 5\n",
    "\n",
    "    Example 2\n",
    ">input\n",
    ">\n",
    "> x = 11\n",
    ">\n",
    "> y = 2\n",
    "\n",
    "\n",
    ">output\n",
    ">\n",
    ">z = 5"
   ]
  },
  {
   "cell_type": "code",
   "execution_count": null,
   "id": "d1849f24",
   "metadata": {},
   "outputs": [],
   "source": [
    "\n",
    "x = float(input(\"Enter the first value (x): \"))\n",
    "y = float(input(\"Enter the second value (y): \"))\n",
    "\n",
    "# Perform the division\n",
    "division = x / y\n",
    "integer_division = x // y\n",
    "print(\"The division of the two values is:\", division)\n",
    "print(\"The division of the two values as an integer is:\", int(integer_division))\n"
   ]
  },
  {
   "cell_type": "markdown",
   "id": "a22d4269",
   "metadata": {},
   "source": [
    "***"
   ]
  },
  {
   "cell_type": "markdown",
   "id": "46224617",
   "metadata": {},
   "source": [
    "### question 4\n",
    "\n",
    "> Create a calculator takes three values\n",
    "> - x \"First input number\"\n",
    "> - y \"second input number\"\n",
    "> - operation \"Third input number\"\n",
    ">\n",
    "> make sure to apply the requested operation as needed.\n",
    "> if the operation is outside your defined choices you have to print a warning message\n",
    "\n",
    "    Example 1\n",
    ">input\n",
    ">\n",
    "> x = 5\n",
    ">\n",
    "> y = 6\n",
    ">\n",
    "> operation = sum or +\n",
    ">\n",
    "\n",
    ">output\n",
    ">\n",
    ">z = 11\n",
    "\n",
    "    Example 2\n",
    ">input\n",
    ">\n",
    "> x = 5\n",
    ">\n",
    "> y = 6\n",
    ">\n",
    "> operation = subtract or -\n",
    ">\n",
    "\n",
    ">output\n",
    ">\n",
    ">z = 1\n",
    " \n",
    "    Example 3\n",
    ">input\n",
    ">\n",
    "> x = 5\n",
    ">\n",
    "> y = 6\n",
    ">\n",
    "> operation = multiplication or *\n",
    ">\n",
    "\n",
    ">output\n",
    ">\n",
    ">z = 30\n",
    "\n",
    "    Example 4\n",
    ">input\n",
    ">\n",
    "> x = 50\n",
    ">\n",
    "> y = 10\n",
    ">\n",
    "> operation = division or /\n",
    ">\n",
    "\n",
    ">output\n",
    ">\n",
    ">z = 5\n"
   ]
  },
  {
   "cell_type": "code",
   "execution_count": null,
   "id": "9455b13e",
   "metadata": {},
   "outputs": [],
   "source": [
    "x = float(input(\"enter x: \"))\n",
    "y = float(input(\"enter y: \"))\n",
    "op = input(\"enter your operator: \")\n",
    "\n",
    "if op == \"+\" or op == \"sum\":\n",
    "    print(x + y)\n",
    "elif op == \"-\" or op == \"subtract\":\n",
    "    print(x - y)\n",
    "elif op == \"*\" or op == \"multiply\":\n",
    "    print(x * y)\n",
    "elif op == \"/\" or op == \"division\":\n",
    "    # Check if y is zero to avoid division by zero error\n",
    "    if y != 0:\n",
    "        print(x / y)\n",
    "    else:\n",
    "        print(\"Error: Division by zero is not allowed.\")\n",
    "else:\n",
    "    print(\"operator is not supported\")\n"
   ]
  },
  {
   "cell_type": "markdown",
   "id": "d984bfac",
   "metadata": {},
   "source": [
    "***"
   ]
  },
  {
   "cell_type": "markdown",
   "id": "b06e3f87",
   "metadata": {},
   "source": [
    "### question 5\n",
    "\n",
    "> Create a calculator takes three values\n",
    "> - x \"First input number\"\n",
    "> - y \"second input number\"\n",
    "> - operation \"Third input\"\n",
    ">\n",
    "> You have to apply as many needed operation, until the user enter closing message \"finish or end\"\n",
    ">\n",
    "> Make sure to apply the requested operation as needed.\n",
    "> If the operation is outside your defined choices you have to print a warning message\n",
    "\n",
    "    Example 1\n",
    ">input\n",
    ">\n",
    "> x = 5\n",
    ">\n",
    "> y = 6\n",
    ">\n",
    "> operation = sum or +\n",
    ">\n",
    "\n",
    ">output\n",
    ">\n",
    ">z = 11\n",
    "\n",
    "    Example 2\n",
    ">input\n",
    ">\n",
    "> x = 5\n",
    ">\n",
    "> y = 6\n",
    ">\n",
    "> operation = subtract or -\n",
    ">\n",
    "\n",
    ">output\n",
    ">\n",
    ">z = 1\n",
    " \n",
    "    Example 3\n",
    ">input\n",
    ">\n",
    "> x = 5\n",
    ">\n",
    "> y = 6\n",
    ">\n",
    "> operation = multiplication or *\n",
    ">\n",
    "\n",
    ">output\n",
    ">\n",
    ">z = 30\n",
    "\n",
    "    Example 4\n",
    ">input\n",
    ">\n",
    "> x = 50\n",
    ">\n",
    "> y = 10\n",
    ">\n",
    "> operation = division or /\n",
    ">\n",
    "\n",
    ">output\n",
    ">\n",
    ">z = 5\n"
   ]
  },
  {
   "cell_type": "code",
   "execution_count": null,
   "id": "e4347234",
   "metadata": {},
   "outputs": [],
   "source": [
    "operation = input(\"Enter your operation (sum/+, subtract/-, multiplication/*, division/ or 'finish'/'end' to stop): \")\n",
    "x = float(input(\"Enter x: \"))\n",
    "y = float(input(\"Enter y: \"))      \n",
    "\n",
    "while operation != \"finish\" or operation != \"end\":\n",
    "\n",
    "\n",
    "    \n",
    "    # Perform the requested operation\n",
    "    if operation == \"sum\" or operation == \"+\":\n",
    "        print(\"z =\", x + y)\n",
    "        break\n",
    "    elif operation == \"subtract\" or operation == \"-\":\n",
    "        print(\"z =\", x - y)\n",
    "        break\n",
    "    elif operation == \"multiplication\" or operation == \"*\":\n",
    "        print(\"z =\", x * y)\n",
    "        break\n",
    "    elif operation == \"division\" or operation == \"/\":\n",
    "        # Check if y is zero to avoid division by zero\n",
    "        if y != 0:\n",
    "            print(\"z =\", x / y)\n",
    "            \n",
    "        else:\n",
    "            print(\"Error: Division by zero is not allowed.\")\n",
    "            break\n",
    "    else:\n",
    "        print(\"Warning: Invalid operation. Please try again.\")\n",
    "        break\n"
   ]
  },
  {
   "cell_type": "markdown",
   "id": "eb8f30d8",
   "metadata": {},
   "source": [
    "***"
   ]
  },
  {
   "cell_type": "markdown",
   "id": "f890ca5b-8f6b-4dc8-9a4b-e1b1590b8831",
   "metadata": {},
   "source": [
    "### Question 6\n",
    "\n",
    "Write python script to print the following shape\n",
    "                "
   ]
  },
  {
   "cell_type": "code",
   "execution_count": null,
   "id": "c4c23da3-b578-4b0a-b313-a4fc739371d0",
   "metadata": {},
   "outputs": [],
   "source": [
    "#******************\n",
    "   #***************\n",
    "      #************\n",
    "        # *********\n",
    "        #    ******\n",
    "         #      ***\n",
    "print(\"******************\\n   ***************\\n      ************\\n         *********\\n            ******\\n               ***\")"
   ]
  },
  {
   "cell_type": "markdown",
   "id": "45d6fbcb-f237-49ba-bca1-87e31e8c0993",
   "metadata": {},
   "source": [
    "### Question 7\n",
    "Write python script to print the following shape"
   ]
  },
  {
   "cell_type": "code",
   "execution_count": null,
   "id": "81700e77-30da-4ce2-93e4-f45ee432a93a",
   "metadata": {},
   "outputs": [],
   "source": [
    "print(\"***\\n******\\n*********\\n************\\n***************\")"
   ]
  },
  {
   "cell_type": "markdown",
   "id": "420c5259-c071-4883-9d7f-96b72c2263fd",
   "metadata": {},
   "source": [
    "### Question 8\n",
    "Write python script to print the following shape"
   ]
  },
  {
   "cell_type": "code",
   "execution_count": null,
   "id": "3c80cbe6-1017-491b-a7f6-1520c4f56b15",
   "metadata": {},
   "outputs": [],
   "source": [
    "print(\"      *\\n     ***\\n    *****\\n   ********\\n  **********\")"
   ]
  },
  {
   "cell_type": "markdown",
   "id": "ee35ca5f-9541-4529-9d71-b0ccd5c5adee",
   "metadata": {},
   "source": [
    "****************"
   ]
  },
  {
   "cell_type": "markdown",
   "id": "004ecfc4",
   "metadata": {},
   "source": [
    "***"
   ]
  },
  {
   "cell_type": "markdown",
   "id": "ebd9abc6-802a-41bb-b917-7148de8f84bf",
   "metadata": {},
   "source": [
    "### question 10\n",
    "\n",
    "Create a random password generator with the following conditions:\n",
    " - Has to be at least 10 characters\n",
    " - Has to have one or more of the special characters\n",
    " - Has to have combination of lower and upper cases letters\n",
    " - Has to have numbers"
   ]
  },
  {
   "cell_type": "code",
   "execution_count": null,
   "id": "ebdcd71f-8e2b-4348-a91a-944da0c597d1",
   "metadata": {},
   "outputs": [],
   "source": [
    "import random\n",
    "\n",
    "lower = \"abcdefghigklmnopqrstuvwxyz\" \n",
    "upper = str.upper(lower)  \n",
    "numbers = \"0123456789\"\n",
    "\n",
    "caracters = \"!@#$=/\"\n",
    "\n",
    "password = [lower,upper,numbers,caracters]\n",
    "\n",
    "\n",
    "thepass =\"\"\n",
    "for x in range(4):\n",
    "    thepass+=str(random.choice(password[x]))\n",
    "for x in range(6):\n",
    "    thepass+=str(random.choice(password[random.randint(0, 3)]))\n",
    "print(\"Generated Password:\", thepass)"
   ]
  },
  {
   "cell_type": "markdown",
   "id": "b9004989-2328-4d08-95f5-93cd3ab30f41",
   "metadata": {},
   "source": [
    "# Ensure it has at least one character of each"
   ]
  },
  {
   "cell_type": "markdown",
   "id": "8c29b8e9-4ca3-47d2-aa76-d50c9d92bde2",
   "metadata": {},
   "source": [
    "# Using string module"
   ]
  },
  {
   "cell_type": "code",
   "execution_count": null,
   "id": "f6207ebd-818b-4c90-aa16-a9baf0664372",
   "metadata": {},
   "outputs": [],
   "source": [
    "import random\n",
    "import string\n",
    "\n",
    "lower = string.ascii_lowercase\n",
    "upper = string.ascii_uppercase\n",
    "numbers = string.digits\n",
    "characters = \"!@#$=/\"\n",
    "\n",
    "password = [lower,upper,numbers,caracters]\n",
    "\n",
    "\n",
    "thepass =\"\"\n",
    "for x in range(4):\n",
    "    thepass+=str(random.choice(password[x]))\n",
    "for x in range(6):\n",
    "    thepass+=str(random.choice(password[random.randint(0, 3)]))\n",
    "print(\"Generated Password:\", thepass)\n",
    "if any(char in lower for char in thepass) and any(char in upper for char in thepass) and any(char in numbers for char in thepass) and any(char in caracters for char in thepass):\n",
    "    print(\"ok\")\n",
    "else :\n",
    "    print(\"no\")"
   ]
  }
 ],
 "metadata": {
  "kernelspec": {
   "display_name": "Python 3",
   "language": "python",
   "name": "python3"
  },
  "language_info": {
   "codemirror_mode": {
    "name": "ipython",
    "version": 3
   },
   "file_extension": ".py",
   "mimetype": "text/x-python",
   "name": "python",
   "nbconvert_exporter": "python",
   "pygments_lexer": "ipython3",
   "version": "3.13.2"
  }
 },
 "nbformat": 4,
 "nbformat_minor": 5
}
