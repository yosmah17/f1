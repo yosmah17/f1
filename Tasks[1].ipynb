{
 "cells": [
  {
   "cell_type": "markdown",
   "id": "e00d935e-eda7-4e7a-a052-574de7ba72ea",
   "metadata": {
    "jp-MarkdownHeadingCollapsed": true
   },
   "source": [
    "## Printing Practice\n",
    "Write a program that uses print statements to print the following recipe into the Output console. The text to print is already there, you just need to make it into code. Your code should print all five lines exactly the same as the example output below. Make sure that you don't change any of these existing text as everything, punctuation and casing all need to match!\n",
    "\n",
    "\n",
    "1. Mix 500g of Flour, 10g Yeast and 300ml Water in a bowl.\n",
    "2. Knead the dough for 10 minutes.\n",
    "3. Add 3g of Salt.\n",
    "4. Leave to rise for 2 hours.\n",
    "5. Bake at 200 degrees C for 30 minutes."
   ]
  },
  {
   "cell_type": "code",
   "execution_count": null,
   "id": "2c8bbdaa-716f-46c2-bc68-e2303f444821",
   "metadata": {},
   "outputs": [],
   "source": [
    "print(\"1. Mix 500g of Flour, 10g Yeast and 300ml Water in a bowl.\")\n",
    "print(\"2. Knead the dough for 10 minutes.\")\n",
    "print(\"3. Add 3g of Salt.\")\n",
    "print(\"4. Leave to rise for 2 hours.\")\n",
    "print(\"5. Bake at 200 degrees C for 30 minutes.\")"
   ]
  },
  {
   "cell_type": "markdown",
   "id": "2ee6034d-d290-46a1-ba41-0bbe3206a06a",
   "metadata": {},
   "source": [
    "***"
   ]
  },
  {
   "cell_type": "markdown",
   "id": "12757fa8-c798-46b8-a843-1629c49730fa",
   "metadata": {},
   "source": [
    "## Debugging Practice\n",
    "Look at the code in the code editor. There are errors on all 5 lines of code. Fix the code so that it runs without errors.\n",
    "\n",
    "Try to run the code and debug each line using the error messages and feedback."
   ]
  },
  {
   "cell_type": "code",
   "execution_count": null,
   "id": "30d83d9f-162c-4c54-909b-0579bd69a122",
   "metadata": {},
   "outputs": [
    {
     "name": "stdout",
     "output_type": "stream",
     "text": [
      "Notes from Day 1\n",
      "The print statement is used to output strings\n",
      "Strings are strings of characters\n",
      "String Concatenation is done with the + sign\n",
      "New lines can be created with a \\ and the letter n\n"
     ]
    },
    {
     "name": "stderr",
     "output_type": "stream",
     "text": [
      "<>:7: SyntaxWarning: invalid escape sequence '\\ '\n",
      "<>:7: SyntaxWarning: invalid escape sequence '\\ '\n",
      "C:\\Users\\youssef\\AppData\\Local\\Temp\\ipykernel_3516\\384721527.py:7: SyntaxWarning: invalid escape sequence '\\ '\n",
      "  print(\"New lines can be created with a \\ and the letter n\")\n"
     ]
    }
   ],
   "source": [
    "print(\"Notes from Day 1\")\n",
    "print(\"The print statement is used to output strings\")\n",
    "print(\"Strings are strings of characters\")\n",
    "print(\"String Concatenation is done with the + sign\")\n",
    "print(\"New lines can be created with a  and the letter n\")"
   ]
  },
  {
   "cell_type": "code",
   "execution_count": null,
   "id": "ec34d775-be00-442d-8727-465fda396f64",
   "metadata": {},
   "outputs": [],
   "source": []
  },
  {
   "cell_type": "markdown",
   "id": "53f8648a-601f-471e-9074-fef4b5733a74",
   "metadata": {},
   "source": [
    "***"
   ]
  },
  {
   "cell_type": "markdown",
   "id": "5f47fd32-6573-4ea8-bf1a-ea74696f0865",
   "metadata": {},
   "source": [
    "\n",
    "num1 = int(input(\"Enter first number: \"))\n",
    "num2 = int(input(\"Enter second number: \"))\n",
    "\n",
    "\n",
    "sum = num1 + num2\n",
    "difference = num1 - num2\n",
    "product = num1 * num2\n",
    "quotient = num1 / num2\n",
    "floor_division = num1 // num2\n",
    "remainder = num1 % num2\n",
    "power = num1 ** num2\n",
    "\n",
    "\n",
    "print(\"Sum:\", sum)\n",
    "print(\"Difference:\", difference)\n",
    "print(\"Product:\", product)\n",
    "print(\"Quotient:\", quotient)\n",
    "print(\"Floor Division:\", floor_division)\n",
    "print(\"Remainder:\", remainder)\n",
    "print(\"Power:\", power)"
   ]
  },
  {
   "cell_type": "code",
   "execution_count": null,
   "id": "85a2559a",
   "metadata": {},
   "outputs": [],
   "source": []
  },
  {
   "cell_type": "markdown",
   "id": "d29ba6c7-1f65-42c2-ab20-2f483ff306dc",
   "metadata": {},
   "source": [
    "***"
   ]
  },
  {
   "cell_type": "markdown",
   "id": "a51c20ba-73a5-48b7-8999-6cf311e992b0",
   "metadata": {},
   "source": [
    "### We have 2 variables glass1 and glass2. glass1 contains milk and glass2 contains juice. Write 3 lines of code to switch the contents of the variables. You are not allowed to type the words \"milk\" or \"juice\". You are only allowed to use variables to solve this exercise."
   ]
  },
  {
   "cell_type": "code",
   "execution_count": 11,
   "id": "bd40017d-b02e-4005-bbf5-8dfd53e91c39",
   "metadata": {},
   "outputs": [
    {
     "name": "stdout",
     "output_type": "stream",
     "text": [
      "milk\n",
      "juice\n"
     ]
    }
   ],
   "source": [
    "glass1 = \"milk\"\n",
    "glass2 = \"juice\"\n",
    "\n",
    "glass3 = glass1\n",
    "glass1 = glass2\n",
    "glass2 = glass3\n",
    "\n",
    "print(glass2)\n",
    "print(glass1)"
   ]
  },
  {
   "cell_type": "markdown",
   "id": "8cefcfbe-3995-4bbe-a908-0c880892d841",
   "metadata": {},
   "source": [
    "***"
   ]
  },
  {
   "cell_type": "markdown",
   "id": "ad2011e9-66b9-4515-916f-836573fe09df",
   "metadata": {},
   "source": [
    "### BMI Calculator\n",
    "The body mass index (BMI) is a measure used in medicine to see if someone is underweight or overweight. This is the formula used to calculate it:\n",
    "\n",
    "\n",
    "\n",
    "bmi is equal to the person's weight divided by the person's height squared."
   ]
  },
  {
   "cell_type": "code",
   "execution_count": 5,
   "id": "b8fd9f04-ed8a-4d29-a986-bf5b2352c84f",
   "metadata": {},
   "outputs": [
    {
     "name": "stdout",
     "output_type": "stream",
     "text": [
      "30.85399449035813\n"
     ]
    }
   ],
   "source": [
    "height = 1.65 \n",
    "weight = 84\n",
    "\n",
    "\n",
    "# Calculate the bmi using weight and height.\n",
    "bmi =weight / height**2\n",
    "\n",
    "print(bmi)"
   ]
  }
 ],
 "metadata": {
  "kernelspec": {
   "display_name": "Python 3",
   "language": "python",
   "name": "python3"
  },
  "language_info": {
   "codemirror_mode": {
    "name": "ipython",
    "version": 3
   },
   "file_extension": ".py",
   "mimetype": "text/x-python",
   "name": "python",
   "nbconvert_exporter": "python",
   "pygments_lexer": "ipython3",
   "version": "3.12.6"
  }
 },
 "nbformat": 4,
 "nbformat_minor": 5
}
